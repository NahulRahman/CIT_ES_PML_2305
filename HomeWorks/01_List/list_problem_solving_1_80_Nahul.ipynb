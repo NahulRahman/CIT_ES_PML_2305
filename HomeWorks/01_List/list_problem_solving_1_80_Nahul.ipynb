{
 "cells": [
  {
   "cell_type": "markdown",
   "id": "b90b9a53",
   "metadata": {},
   "source": [
    "# list problem Solving (1-80) Nahul"
   ]
  },
  {
   "cell_type": "code",
   "execution_count": null,
   "id": "403f285e",
   "metadata": {},
   "outputs": [],
   "source": []
  },
  {
   "cell_type": "code",
   "execution_count": 98,
   "id": "1be4fc16",
   "metadata": {},
   "outputs": [
    {
     "name": "stdout",
     "output_type": "stream",
     "text": [
      "26\n"
     ]
    }
   ],
   "source": [
    "#1 Write a Python program to sum all the items in a list\n",
    "\n",
    "list1=[5,6,7,8]\n",
    "s=0\n",
    "for i in range(len(list1)):\n",
    "    s=s+list1[i]\n",
    "print(s)"
   ]
  },
  {
   "cell_type": "code",
   "execution_count": 99,
   "id": "39ccdd10",
   "metadata": {},
   "outputs": [
    {
     "name": "stdout",
     "output_type": "stream",
     "text": [
      "24\n"
     ]
    }
   ],
   "source": [
    "#2 Write a Python program to multiplies all the items in a list.\n",
    "\n",
    "list1=[1,2,3,4]\n",
    "p=1\n",
    "for i in range(len(list1)):\n",
    "    p=p*list1[i]\n",
    "print(p)"
   ]
  },
  {
   "cell_type": "code",
   "execution_count": 100,
   "id": "12f45554",
   "metadata": {},
   "outputs": [
    {
     "name": "stdout",
     "output_type": "stream",
     "text": [
      "9\n"
     ]
    }
   ],
   "source": [
    "#3 Write a Python program to get the largest number from a list.\n",
    "\n",
    "list1=[8,5,6,9]\n",
    "sorted(list1)\n",
    "print(list1[-1])"
   ]
  },
  {
   "cell_type": "code",
   "execution_count": 101,
   "id": "ebcad572",
   "metadata": {},
   "outputs": [
    {
     "name": "stdout",
     "output_type": "stream",
     "text": [
      "5\n"
     ]
    }
   ],
   "source": [
    "#4 Write a Python program to get the smallest number from a list. \n",
    "\n",
    "list1=[8,5,6,9]\n",
    "\n",
    "#sorted(list1)\n",
    "#print(list1[0])\n",
    "\n",
    "smallest = min(list1)\n",
    "print(smallest)\n"
   ]
  },
  {
   "cell_type": "code",
   "execution_count": 102,
   "id": "9994d348",
   "metadata": {},
   "outputs": [
    {
     "name": "stdout",
     "output_type": "stream",
     "text": [
      "2\n"
     ]
    }
   ],
   "source": [
    "#5 list elements 1st and last index matches\n",
    "\n",
    "l=['abc', 'xyz', 'aba', '1221', 'aa']\n",
    "count=0\n",
    "for i in l:\n",
    "    if i[0]==i[-1] and len(i)>2:\n",
    "        count=count+1\n",
    "print(count)"
   ]
  },
  {
   "cell_type": "code",
   "execution_count": 103,
   "id": "75f48358",
   "metadata": {
    "scrolled": true
   },
   "outputs": [
    {
     "data": {
      "text/plain": [
       "[(2, 1), (1, 2), (2, 3), (4, 4), (2, 5)]"
      ]
     },
     "execution_count": 103,
     "metadata": {},
     "output_type": "execute_result"
    }
   ],
   "source": [
    "#6 sorted in increasing order by the last element in each tuple\n",
    "\n",
    "l= [(2, 5), (1, 2), (4, 4), (2, 3), (2, 1)]\n",
    "list1=[]\n",
    "for i in l:\n",
    "    list1.append(i[1])\n",
    "list1=sorted(list1)\n",
    "final_result=[]\n",
    "for i in list1:\n",
    "    for tuple1 in l:\n",
    "        if tuple1[1]==i:\n",
    "            final_result.append(tuple1)\n",
    "            break\n",
    "final_result"
   ]
  },
  {
   "cell_type": "code",
   "execution_count": 104,
   "id": "c821e0aa",
   "metadata": {},
   "outputs": [
    {
     "name": "stdout",
     "output_type": "stream",
     "text": [
      "[1, 2, 3, 4]\n"
     ]
    }
   ],
   "source": [
    "#7 Write a Python program to remove duplicates from a list\n",
    "\n",
    "list1=[1,2,3,4,4]\n",
    "list2=list(set(list1))\n",
    "print(list2)"
   ]
  },
  {
   "cell_type": "code",
   "execution_count": 105,
   "id": "c9941730",
   "metadata": {},
   "outputs": [
    {
     "name": "stdout",
     "output_type": "stream",
     "text": [
      "empty\n"
     ]
    }
   ],
   "source": [
    "#8 to check a list is empty or not \n",
    "\n",
    "list1=[]\n",
    "if list1:\n",
    "    print(\"non-empty\")\n",
    "else:\n",
    "    print(\"empty\")"
   ]
  },
  {
   "cell_type": "code",
   "execution_count": 106,
   "id": "6362bcb0",
   "metadata": {},
   "outputs": [
    {
     "name": "stdout",
     "output_type": "stream",
     "text": [
      "[1, 2, 4, 5] [1, 2, 4, 5]\n"
     ]
    }
   ],
   "source": [
    "#9 to clone or copy a list.\n",
    "\n",
    "list1=[1,2,4,5]\n",
    "list2=list1\n",
    "print(list2,list1)"
   ]
  },
  {
   "cell_type": "code",
   "execution_count": 107,
   "id": "3628e78c",
   "metadata": {},
   "outputs": [
    {
     "name": "stdout",
     "output_type": "stream",
     "text": [
      "quick\n",
      "brown\n",
      "jumps\n",
      "over\n",
      "lazy\n"
     ]
    }
   ],
   "source": [
    "#10 find the list of words that are longer than n from a given list of words\n",
    "\n",
    "s = \"The quick brown fox jumps over the lazy dog\"\n",
    "n = 3\n",
    "\n",
    "for word in s.split():\n",
    "    if len(word)>3:\n",
    "        print(word)"
   ]
  },
  {
   "cell_type": "code",
   "execution_count": 108,
   "id": "37be57e8",
   "metadata": {},
   "outputs": [
    {
     "name": "stdout",
     "output_type": "stream",
     "text": [
      "Words longer than 3 : ['apple', 'banana', 'orange', 'mango', 'pineapple']\n"
     ]
    }
   ],
   "source": [
    "\"\"\"\n",
    "words = [\"apple\", \"banana\", \"orange\", \"mango\", \"pineapple\"]\n",
    "n = 3\n",
    "longer_words = [word for word in words if len(word) > n]\n",
    "print(\"Words longer than\", n, \":\", longer_words)\n",
    "\"\"\"\n",
    "\n",
    "words = [\"apple\", \"banana\", \"orange\", \"mango\", \"pineapple\"]\n",
    "words2=[]\n",
    "n = 3\n",
    "for i in words:\n",
    "    if len(i) > n:\n",
    "        words2.append(i)\n",
    "print(\"Words longer than\", n, \":\", words2)\n"
   ]
  },
  {
   "cell_type": "code",
   "execution_count": 109,
   "id": "85b2b345",
   "metadata": {},
   "outputs": [
    {
     "name": "stdout",
     "output_type": "stream",
     "text": [
      "True\n"
     ]
    }
   ],
   "source": [
    "#11 takes two lists and returns True if they have at least one common member\n",
    "\n",
    "\n",
    "\"\"\"\n",
    "list1=[1, 2, 3, 4, 5]\n",
    "list2=[6, 7, 8, 9, 10]\n",
    "\n",
    "\n",
    "\"\"\"\n",
    "list1=[1, 2, 3, 4, 5]\n",
    "list2=[5, 6, 7, 8, 9]\n",
    "\n",
    "\n",
    "flag=False\n",
    "for i in list1:\n",
    "    for j in list2:\n",
    "        if i==j:\n",
    "            flag=True\n",
    "            break\n",
    "print(flag)"
   ]
  },
  {
   "cell_type": "code",
   "execution_count": 110,
   "id": "7089b841",
   "metadata": {},
   "outputs": [
    {
     "name": "stdout",
     "output_type": "stream",
     "text": [
      "Modified list: ['Green', 'White', 'Black']\n"
     ]
    }
   ],
   "source": [
    "# 12 print a specified list after removing the 0th, 4th and 5th elements. \n",
    "\n",
    "list1 = ['Red', 'Green', 'White', 'Black', 'Pink', 'Yellow']\n",
    "\n",
    "# Use slicing to remove elements in one step\n",
    "new_list = list1[1:4] + list1[6:]\n",
    "\n",
    "print(\"Modified list:\", new_list)\n"
   ]
  },
  {
   "cell_type": "code",
   "execution_count": 111,
   "id": "178af405",
   "metadata": {},
   "outputs": [
    {
     "data": {
      "text/plain": [
       "[[['*', '*', '*', '*', '*', '*'],\n",
       "  ['*', '*', '*', '*', '*', '*'],\n",
       "  ['*', '*', '*', '*', '*', '*'],\n",
       "  ['*', '*', '*', '*', '*', '*']],\n",
       " [['*', '*', '*', '*', '*', '*'],\n",
       "  ['*', '*', '*', '*', '*', '*'],\n",
       "  ['*', '*', '*', '*', '*', '*'],\n",
       "  ['*', '*', '*', '*', '*', '*']],\n",
       " [['*', '*', '*', '*', '*', '*'],\n",
       "  ['*', '*', '*', '*', '*', '*'],\n",
       "  ['*', '*', '*', '*', '*', '*'],\n",
       "  ['*', '*', '*', '*', '*', '*']]]"
      ]
     },
     "execution_count": 111,
     "metadata": {},
     "output_type": "execute_result"
    }
   ],
   "source": [
    "#13 3*4*6 3D array\n",
    "\n",
    "s=('* '*6).split()\n",
    "3*[4*[s]]"
   ]
  },
  {
   "cell_type": "code",
   "execution_count": 112,
   "id": "273e6cb6",
   "metadata": {},
   "outputs": [
    {
     "name": "stdout",
     "output_type": "stream",
     "text": [
      "[1, 3, 5, 7, 9]\n"
     ]
    }
   ],
   "source": [
    "#14 print the numbers of a specified list after removing even numbers from it\n",
    "\n",
    "list1=[1,2,3,4,5,6,7,8,9]\n",
    "list2=[]\n",
    "for i in list1:\n",
    "    if i%2!=0:\n",
    "        list2.append(i)\n",
    "print(list2)"
   ]
  },
  {
   "cell_type": "code",
   "execution_count": 113,
   "id": "a0d6bf98",
   "metadata": {},
   "outputs": [],
   "source": [
    "#17 generate and print a list except for the first 5 elements, where the values are square of numbers between 1 and 30\n",
    "\n"
   ]
  },
  {
   "cell_type": "code",
   "execution_count": 114,
   "id": "c1361c85",
   "metadata": {},
   "outputs": [
    {
     "name": "stdout",
     "output_type": "stream",
     "text": [
      "[(1, 2, 3), (1, 3, 2), (2, 1, 3), (2, 3, 1), (3, 1, 2), (3, 2, 1)]\n"
     ]
    }
   ],
   "source": [
    "#18 generate all permutations of a list\n",
    "\n",
    "import itertools\n",
    "print(list(itertools.permutations([1, 2, 3])))"
   ]
  },
  {
   "cell_type": "code",
   "execution_count": 115,
   "id": "76feb729",
   "metadata": {},
   "outputs": [
    {
     "name": "stdout",
     "output_type": "stream",
     "text": [
      "[9, 3, 5, 8, 2, 4, 6]\n"
     ]
    }
   ],
   "source": [
    "#19 difference between the two lists\n",
    "\n",
    "list1 = [1, 3, 5, 7, 9]\n",
    "list2 = [1, 2, 4, 6, 7, 8]\n",
    "diff_list1_list2 = list(set(list1) - set(list2))\n",
    "diff_list2_list1 = list(set(list2) - set(list1))\n",
    "total_diff = diff_list1_list2 + diff_list2_list1\n",
    "print(total_diff)\n"
   ]
  },
  {
   "cell_type": "code",
   "execution_count": 116,
   "id": "f1403319",
   "metadata": {},
   "outputs": [
    {
     "name": "stdout",
     "output_type": "stream",
     "text": [
      "0 1\n",
      "1 2\n",
      "2 3\n",
      "3 4\n",
      "4 5\n",
      "5 6\n"
     ]
    }
   ],
   "source": [
    "#20 Write a Python program access the index of a list\n",
    "\n",
    "list1 = [1, 2, 3, 4, 5, 6]\n",
    "for i in range(len(list1)):\n",
    "    print(i, list1[i])\n"
   ]
  },
  {
   "cell_type": "code",
   "execution_count": 117,
   "id": "dba9eda9",
   "metadata": {},
   "outputs": [
    {
     "name": "stdout",
     "output_type": "stream",
     "text": [
      "0\n"
     ]
    }
   ],
   "source": [
    "#22 find the index of an item in a specified list\n",
    "\n",
    "list1=[1,2,3,4,5]\n",
    "print(list1.index(1))"
   ]
  },
  {
   "cell_type": "code",
   "execution_count": 118,
   "id": "1f75de06",
   "metadata": {},
   "outputs": [
    {
     "name": "stdout",
     "output_type": "stream",
     "text": [
      "Flattened list: [6, 8, 9, 2, 5, 4, 'l', 'o', 7, 'u']\n"
     ]
    }
   ],
   "source": [
    "#23 flatten a shallow list\n",
    "\n",
    "li = [[6, 8, 9], [2, 5, 4], ['l'], ['o', 7, 'u']]\n",
    "flat_list = []\n",
    "for sublist in li:\n",
    "    for item in sublist:\n",
    "        flat_list.append(item)\n",
    "print(\"Flattened list:\", flat_list)"
   ]
  },
  {
   "cell_type": "code",
   "execution_count": 119,
   "id": "9880228c",
   "metadata": {},
   "outputs": [
    {
     "name": "stdout",
     "output_type": "stream",
     "text": [
      "['Red', 'Green', 'Black', 5, 6, 7, 8]\n"
     ]
    }
   ],
   "source": [
    "#24 append a list to the second list\n",
    "\n",
    "\n",
    "\"\"\"\n",
    "list1 = [1, 2, 3, 0]\n",
    "list2 = ['Red', 'Green', 'Black']\n",
    "final_list = list1 + list2\n",
    "print(final_list)\n",
    "o/p:[1, 2, 3, 0, 'Red', 'Green', 'Black']\n",
    "\"\"\"\n",
    "\n",
    "\n",
    "list1=[5,6,7,8]\n",
    "list2=['Red', 'Green', 'Black']\n",
    "for i in list1:\n",
    "    list2.append(i)\n",
    "print(list2)\n",
    "#o/p= ['Red', 'Green', 'Black', 5, 6, 7, 8]"
   ]
  },
  {
   "cell_type": "code",
   "execution_count": 120,
   "id": "63554d37",
   "metadata": {},
   "outputs": [
    {
     "name": "stdout",
     "output_type": "stream",
     "text": [
      "Green\n"
     ]
    }
   ],
   "source": [
    "#25  select an item randomly from a list\n",
    "\n",
    "\n",
    "import random\n",
    "color_list = ['Red', 'Blue', 'Green', 'White', 'Black']\n",
    "print(random.choice(color_list))"
   ]
  },
  {
   "cell_type": "code",
   "execution_count": 121,
   "id": "4a3af4c7",
   "metadata": {},
   "outputs": [
    {
     "data": {
      "text/plain": [
       "True"
      ]
     },
     "execution_count": 121,
     "metadata": {},
     "output_type": "execute_result"
    }
   ],
   "source": [
    "#26 whether two lists are circularly identical; after circulation are they looking same o not\n",
    "s=[10,10,11,11]\n",
    "s1=[11,11,10,10]\n",
    "s2=[10,11,10,11]\n",
    "def get_order(s):\n",
    "    string=''\n",
    "    for i in s:\n",
    "        string=string+str(i)\n",
    "    return string\n",
    "get_order(s1) in get_order(s)*2 #-> true\n",
    "#get_order(s2) in get_order(s)*2  ->false"
   ]
  },
  {
   "cell_type": "code",
   "execution_count": 122,
   "id": "abd0ef77",
   "metadata": {},
   "outputs": [
    {
     "name": "stdout",
     "output_type": "stream",
     "text": [
      "2\n"
     ]
    }
   ],
   "source": [
    "#27 find the second smallest number in a list\n",
    "\n",
    "list1=[9,3,4,0,2]\n",
    "list1.sort()\n",
    "print(list1[1])"
   ]
  },
  {
   "cell_type": "code",
   "execution_count": 123,
   "id": "a0e380e5",
   "metadata": {},
   "outputs": [
    {
     "name": "stdout",
     "output_type": "stream",
     "text": [
      "4\n"
     ]
    }
   ],
   "source": [
    "#28 find the second largest number in a list\n",
    "\n",
    "list1=[9,3,4,0,2]\n",
    "list1.sort()\n",
    "print(list1[-2])"
   ]
  },
  {
   "cell_type": "code",
   "execution_count": 124,
   "id": "3a28f657",
   "metadata": {},
   "outputs": [
    {
     "name": "stdout",
     "output_type": "stream",
     "text": [
      "Unique values: [1, 2, 3, 4, 5, 6, 7, 9]\n"
     ]
    }
   ],
   "source": [
    "#29 get unique values from a list\n",
    "\n",
    "li = [3, 5, 9, 7, 5, 6, 4, 1, 2, 7, 2]\n",
    "unique_values = sorted(list(set(li)))\n",
    "print(\"Unique values:\", unique_values)"
   ]
  },
  {
   "cell_type": "code",
   "execution_count": 125,
   "id": "2af77328",
   "metadata": {},
   "outputs": [
    {
     "name": "stdout",
     "output_type": "stream",
     "text": [
      "{3: 3, 4: 2, 6: 2, 8: 1, 5: 1, 7: 2, 89: 1, 1: 1}\n"
     ]
    }
   ],
   "source": [
    "#30 frequency of the elements in a list\n",
    "\n",
    "list1 = [3,4,6,8,3,5,7,89,1,3,4,6,7]\n",
    "\n",
    "dict1 = {}\n",
    "for i in list1:\n",
    "    dict1[i] = list1.count(i)\n",
    "print(dict1)"
   ]
  },
  {
   "cell_type": "code",
   "execution_count": 126,
   "id": "b914456d",
   "metadata": {},
   "outputs": [
    {
     "name": "stdout",
     "output_type": "stream",
     "text": [
      "{2: 0, 3: 3, 4: 2, 5: 1, 6: 2}\n"
     ]
    }
   ],
   "source": [
    "#31  count the number of elements in a list within a specified range\n",
    "\n",
    "list1 = [3,4,6,8,3,5,7,89,1,3,4,6,7]\n",
    "\n",
    "dict1 = {}\n",
    "for i in range(2,7):\n",
    "    dict1[i] = list1.count(i)\n",
    "print(dict1)"
   ]
  },
  {
   "cell_type": "code",
   "execution_count": 127,
   "id": "ae6bae27",
   "metadata": {},
   "outputs": [
    {
     "name": "stdout",
     "output_type": "stream",
     "text": [
      "no\n"
     ]
    }
   ],
   "source": [
    "#32 check whether a list contains a sublist\n",
    "\n",
    "list1=[1,2,3,4]\n",
    "list2=[]\n",
    "for i in range(0,len(list1)+1):\n",
    "    for j in range(i+1,len(list1)+1):\n",
    "            list2.append(list1[i:j])\n",
    "n=[1,3]\n",
    "if n in list2:\n",
    "    print('yes')\n",
    "else:\n",
    "    print('no')"
   ]
  },
  {
   "cell_type": "code",
   "execution_count": 128,
   "id": "215ed194",
   "metadata": {},
   "outputs": [
    {
     "name": "stdout",
     "output_type": "stream",
     "text": [
      "[1]\n",
      "[1, 2]\n",
      "[1, 2, 3]\n",
      "[1, 2, 3, 4]\n",
      "[2]\n",
      "[2, 3]\n",
      "[2, 3, 4]\n",
      "[3]\n",
      "[3, 4]\n",
      "[4]\n"
     ]
    }
   ],
   "source": [
    "#33 generate all sublists of a list\n",
    "\n",
    "for i in range(0,len(list1)):\n",
    "    for j in range(i+1,len(list1)+1):\n",
    "        print(list1[i:j])"
   ]
  },
  {
   "cell_type": "code",
   "execution_count": 129,
   "id": "8f24ef1b",
   "metadata": {},
   "outputs": [
    {
     "name": "stdout",
     "output_type": "stream",
     "text": [
      "2 3 5 7 11 13 17 19 23 29 31 37 41 43 47 53 59 61 67 71 73 79 83 89 97 "
     ]
    }
   ],
   "source": [
    "#34 Sieve of Eratosthenes method for computing primes upto a specified number\n",
    "\n",
    "n=100\n",
    "prime_li =[]\n",
    "for i in range(2, n+1):\n",
    "    if i not in prime_li:\n",
    "        print(i, end= ' ')\n",
    "        for j in range(i*i, n+1, i): \n",
    "            prime_li.append(j)    "
   ]
  },
  {
   "cell_type": "code",
   "execution_count": 130,
   "id": "d38db9b9",
   "metadata": {},
   "outputs": [
    {
     "data": {
      "text/plain": [
       "['p1', 'q1', 'p2', 'q2', 'p3', 'q3', 'p4', 'q4', 'p5', 'q5']"
      ]
     },
     "execution_count": 130,
     "metadata": {},
     "output_type": "execute_result"
    }
   ],
   "source": [
    "#35  concatenating a given list which range goes from 1 to n\n",
    "\n",
    "list1=['p','q']\n",
    "n=5\n",
    "list2=[]\n",
    "for j in range(1,6):\n",
    "    for i in list1:\n",
    "        s=i+str(j)\n",
    "        list2.append(s)\n",
    "list2"
   ]
  },
  {
   "cell_type": "code",
   "execution_count": 131,
   "id": "1e47ed85",
   "metadata": {},
   "outputs": [
    {
     "name": "stdout",
     "output_type": "stream",
     "text": [
      "7ffca8b99f88\n"
     ]
    }
   ],
   "source": [
    "#36 variable unique identification number or string\n",
    "\n",
    "\"\"\"\n",
    "x = 10\n",
    "y = \"hello\"\n",
    "\n",
    "x_id = id(x)\n",
    "y_id = id(y)\n",
    "\n",
    "print(f\"Unique ID for x: {x_id}\")\n",
    "print(f\"Unique ID for y: {y_id}\")\n",
    "\"\"\"\n",
    "x = 100\n",
    "print(format(id(x), 'x'))"
   ]
  },
  {
   "cell_type": "code",
   "execution_count": 132,
   "id": "738fb4b9",
   "metadata": {},
   "outputs": [
    {
     "name": "stdout",
     "output_type": "stream",
     "text": [
      "7\n",
      "9\n"
     ]
    }
   ],
   "source": [
    "#37 find common items from two lists\n",
    "\n",
    "list1=[2,5,7,9]\n",
    "list2=[7,9,12,13]\n",
    "for i in list1:\n",
    "    if i in list2:\n",
    "        print(i)"
   ]
  },
  {
   "cell_type": "code",
   "execution_count": 133,
   "id": "94b28c59",
   "metadata": {},
   "outputs": [
    {
     "name": "stdout",
     "output_type": "stream",
     "text": [
      "[1, 0, 3, 2, 5, 4, 7, 6, 9, 8]\n"
     ]
    }
   ],
   "source": [
    "#38 change the position of every n-th value with the (n+1)th in a list\n",
    "\n",
    "list1 = [0,1,2,3,4,5,6,7,8,9]\n",
    "\n",
    "for i in range(0, len(list1)-1,2):\n",
    "    temp = list1[i] \n",
    "    list1[i] = list1[i+1]\n",
    "    list1[i+1] = temp\n",
    "print(list1)"
   ]
  },
  {
   "cell_type": "code",
   "execution_count": 134,
   "id": "dd5171c8",
   "metadata": {},
   "outputs": [
    {
     "name": "stdout",
     "output_type": "stream",
     "text": [
      "11\n",
      "1133\n",
      "113350\n",
      "113350\n"
     ]
    }
   ],
   "source": [
    "#39 convert a list of multiple integers into a single integer\n",
    "\n",
    "list1=[11,33,50]\n",
    "s=''\n",
    "for i in list1:\n",
    "    s=s+str(i)\n",
    "    print(s)\n",
    "print(s)"
   ]
  },
  {
   "cell_type": "code",
   "execution_count": 136,
   "id": "bd9a9074",
   "metadata": {},
   "outputs": [
    {
     "data": {
      "text/plain": [
       "{'a': ['ask'],\n",
       " 'b': ['be'],\n",
       " 'c': ['call', 'come'],\n",
       " 'd': ['do'],\n",
       " 'f': ['feel', 'find'],\n",
       " 'g': ['get', 'give', 'go'],\n",
       " 'h': ['have'],\n",
       " 'k': ['know'],\n",
       " 'l': ['leave', 'look'],\n",
       " 'm': ['make'],\n",
       " 's': ['say', 'see', 'seem'],\n",
       " 't': ['take', 'tell', 'think'],\n",
       " 'u': ['use'],\n",
       " 'w': ['want', 'work']}"
      ]
     },
     "execution_count": 136,
     "metadata": {},
     "output_type": "execute_result"
    }
   ],
   "source": [
    "#40 split a list based on first character of word\n",
    "\n",
    "word_list = ['be','have','do','say','get','make','go','know','take','see','come','think', 'look','want','give','use','find','tell','ask','work','seem','feel','leave','call']\n",
    "dict1 = {}\n",
    "word_list = list(sorted(word_list))\n",
    "\n",
    "for i in word_list:\n",
    "    if i[0] in dict1:\n",
    "        dict1[i[0]].append(i)\n",
    "    else:\n",
    "        dict1[i[0]] = []\n",
    "        dict1[i[0]].append(i)\n",
    "dict1"
   ]
  },
  {
   "cell_type": "code",
   "execution_count": 137,
   "id": "1e0754ee",
   "metadata": {},
   "outputs": [
    {
     "name": "stdout",
     "output_type": "stream",
     "text": [
      "{'1': [], '2': [], '3': [], '4': [], '5': [], '6': [], '7': [], '8': [], '9': [], '10': [], '11': [], '12': [], '13': [], '14': [], '15': [], '16': [], '17': [], '18': [], '19': [], '20': []}\n"
     ]
    }
   ],
   "source": [
    "#41 create multiple lists\n",
    "\n",
    "obj = {}\n",
    "for i in range(1, 21):\n",
    "    obj[str(i)] = []\n",
    "print(obj) "
   ]
  },
  {
   "cell_type": "code",
   "execution_count": 138,
   "id": "bbd76bf0",
   "metadata": {},
   "outputs": [
    {
     "name": "stdout",
     "output_type": "stream",
     "text": [
      "Missing values in the second list:  c,a,b\n",
      "{'h', 'g'}\n",
      "the additional value  h,g\n"
     ]
    }
   ],
   "source": [
    "#42  to find missing and additional values in two lists\n",
    "\n",
    "list1 = ['a', 'b', 'c', 'd', 'e', 'f']\n",
    "list2 = ['d', 'e', 'f', 'g', 'h']\n",
    "\n",
    "new_li = set(list1).difference(list2)\n",
    "print('Missing values in the second list: ', ','.join(new_li))\n",
    "new_li1 = set(list2).difference(list1)\n",
    "\n",
    "print(new_li1)\n",
    "print(\"the additional value \", ','.join(new_li1))"
   ]
  },
  {
   "cell_type": "code",
   "execution_count": 139,
   "id": "d2e528f3",
   "metadata": {},
   "outputs": [
    {
     "name": "stdout",
     "output_type": "stream",
     "text": [
      "('Black', '#000000', 'rgb(0, 0, 0)')\n",
      "('Red', '#FF0000', 'rgb(255, 0, 0)')\n",
      "('Yellow', '#FFFF00', 'rgb(255, 255, 0)')\n"
     ]
    }
   ],
   "source": [
    "#43 split a list into different variables\n",
    "\n",
    "# Define a list 'color' containing tuples, where each tuple represents a color with its name, hexadecimal code, and RGB value\n",
    "color = [(\"Black\", \"#000000\", \"rgb(0, 0, 0)\"), (\"Red\", \"#FF0000\", \"rgb(255, 0, 0)\"),(\"Yellow\", \"#FFFF00\", \"rgb(255, 255, 0)\")]\n",
    "var1, var2, var3 = color\n",
    "print(var1)\n",
    "print(var2)\n",
    "print(var3)"
   ]
  },
  {
   "cell_type": "code",
   "execution_count": 140,
   "id": "9bbd2dbb",
   "metadata": {},
   "outputs": [
    {
     "name": "stdout",
     "output_type": "stream",
     "text": [
      "[1, 2, 3, 4, 5, 6, 7, 8, 9, 10, 11, 12, 13, 14, 15, 16, 17, 18, 19, 20, 21, 22, 23, 24, 25, 26, 27, 28, 29, 30, 31, 32, 33, 34, 35, 36, 37, 38, 39, 40][1, 2, 3, 4, 5]\n",
      "[6, 7, 8, 9, 10]\n",
      "[11, 12, 13, 14, 15]\n",
      "[16, 17, 18, 19, 20]\n",
      "[21, 22, 23, 24, 25]\n",
      "[26, 27, 28, 29, 30]\n",
      "[31, 32, 33, 34, 35]\n",
      "[36, 37, 38, 39, 40]\n"
     ]
    }
   ],
   "source": [
    "#44  generate groups of five consecutive numbers in a list\n",
    "\n",
    "list1 = list(range(1,41))\n",
    "print(list1, end= '')\n",
    "\n",
    "for i in range(0,len(list1),5):\n",
    "    print(list1[i: i + 5])"
   ]
  },
  {
   "cell_type": "code",
   "execution_count": 141,
   "id": "64ffb323",
   "metadata": {},
   "outputs": [
    {
     "name": "stdout",
     "output_type": "stream",
     "text": [
      "[1, 2, 3, 4, 5, 6, 7, 8, 9, 10]\n"
     ]
    }
   ],
   "source": [
    "#45 convert a pair of values into a sorted unique array\n",
    "\n",
    "L = [(1, 2), (3, 4), (1, 2), (5, 6), (7, 8), (1, 2), (3, 4), (3, 4), (7, 8), (9, 10)]\n",
    "print(sorted(set().union(*L)))"
   ]
  },
  {
   "cell_type": "code",
   "execution_count": 142,
   "id": "c74d53a4",
   "metadata": {},
   "outputs": [
    {
     "name": "stdout",
     "output_type": "stream",
     "text": [
      "[1, 3, 5, 7, 9]\n"
     ]
    }
   ],
   "source": [
    "#46  select the odd items of a list\n",
    "\n",
    "new_x = []\n",
    "x = [1, 2, 3, 4, 5, 6, 7, 8, 9]\n",
    "for i in x:\n",
    "    if i % 2 != 0:\n",
    "        new_x.append(i)\n",
    "print(new_x)"
   ]
  },
  {
   "cell_type": "code",
   "execution_count": 143,
   "id": "5edef4c0",
   "metadata": {},
   "outputs": [
    {
     "data": {
      "text/plain": [
       "['c', 'a', 'c', 'b', 'c', 'c', 'c', 'd', 'c', 'e']"
      ]
     },
     "execution_count": 143,
     "metadata": {},
     "output_type": "execute_result"
    }
   ],
   "source": [
    "#47 insert an element before each element of a list\n",
    "\n",
    "li = ['a','b','c','d','e']\n",
    "n= \"c\"\n",
    "new_li = []\n",
    "for i in range(0, len(li)):\n",
    "    new_li.append(n)   # new_li.append(i+1)\n",
    "    new_li.append(li[i])\n",
    "    \n",
    "new_li"
   ]
  },
  {
   "cell_type": "code",
   "execution_count": 144,
   "id": "4a06f90b",
   "metadata": {},
   "outputs": [
    {
     "name": "stdout",
     "output_type": "stream",
     "text": [
      "Red\n",
      "Green\n",
      "Black\n"
     ]
    }
   ],
   "source": [
    "#48 print a nested lists (each list on a new line) using the print() function\n",
    "\n",
    "colors = [['Red'], ['Green'], ['Black']]\n",
    "for i in colors:\n",
    "    print(i[0])"
   ]
  },
  {
   "cell_type": "code",
   "execution_count": 145,
   "id": "ac430add",
   "metadata": {},
   "outputs": [
    {
     "name": "stdout",
     "output_type": "stream",
     "text": [
      "[{'#000000', 'Black'}, {'Red', '#FF0000'}, {'#800000', 'Maroon'}, {'#FFFF00', 'Yellow'}]\n"
     ]
    }
   ],
   "source": [
    "#49 convert list to list of dictionaries\n",
    "\n",
    "col= [\"Black\", \"Red\", \"Maroon\", \"Yellow\"]\n",
    "code= [\"#000000\", \"#FF0000\",\"#800000\", \"#FFFF00\"]\n",
    "new=[]\n",
    "for i in range(len(col)):\n",
    "    new.append({col[i],code[i]})\n",
    "print(new)"
   ]
  },
  {
   "cell_type": "code",
   "execution_count": 146,
   "id": "4af53999",
   "metadata": {},
   "outputs": [
    {
     "name": "stdout",
     "output_type": "stream",
     "text": [
      "[{'key': {'subkey': 1}}, {'key': {'subkey': 5}}, {'key': {'subkey': 10}}]\n"
     ]
    }
   ],
   "source": [
    "#50  sort a list of nested dictionaries\n",
    "input_list = [{'key': {'subkey': 1}}, {'key': {'subkey': 10}}, {'key': {'subkey': 5}}]\n",
    "output_list = []\n",
    "sorted_values = sorted(d['key']['subkey'] for d in input_list)\n",
    "for value in sorted_values:\n",
    "    output_list.append({'key': {'subkey': value}})\n",
    "\n",
    "print(output_list)  # Output: [{'key': {'subkey': 1}}, {'key': {'subkey': 5}}, {'key': {'subkey': 10}}]\n"
   ]
  },
  {
   "cell_type": "code",
   "execution_count": 147,
   "id": "4d31784f",
   "metadata": {},
   "outputs": [
    {
     "name": "stdout",
     "output_type": "stream",
     "text": [
      "['a', 'b', 'd', 'j', 'u']\n",
      "['d', 'f', 'k', 'o', 'r']\n",
      "['m', 'n', 'd', 'n', 'a']\n",
      "['m,z', 'x', 's', 'd', 'q']\n"
     ]
    }
   ],
   "source": [
    "#51 split a list every Nth element\n",
    "\n",
    "list1 = l = ['a','b','d','j','u','d','f','k','o','r','m','n','d','n','a','m'',z','x','s','d',\"q\"]\n",
    "n=5\n",
    "for i in range(0,len(list1),n):\n",
    "    print(list1[i: i + 5])"
   ]
  },
  {
   "cell_type": "code",
   "execution_count": 148,
   "id": "a401771b",
   "metadata": {},
   "outputs": [
    {
     "name": "stdout",
     "output_type": "stream",
     "text": [
      "{'white', 'red', 'orange'}\n",
      "{'black', 'yellow'}\n"
     ]
    }
   ],
   "source": [
    "#52\n",
    "\n",
    "list1 = [\"red\", \"orange\", \"green\", \"blue\", \"white\"]\n",
    "list2 = [\"black\", \"yellow\", \"green\",\"blue\"]\n",
    "new_li = set(list1).difference(set(list2))\n",
    "print(new_li)\n",
    "new_li1 = set(list2).difference(list1)\n",
    "print(new_li1)"
   ]
  },
  {
   "cell_type": "code",
   "execution_count": 149,
   "id": "3d809be3",
   "metadata": {},
   "outputs": [
    {
     "name": "stdout",
     "output_type": "stream",
     "text": [
      "[0, 1, 2, 3, 4, 5, 6, 7, 8, 9]\n"
     ]
    }
   ],
   "source": [
    "#53 create a list with infinite elements\n",
    "\n",
    "list1 = []\n",
    "c = 0\n",
    "while True:  \n",
    "    list1.append(c)\n",
    "    #print(c)\n",
    "    c += 1  \n",
    "    if c == 10:  \n",
    "        break\n",
    "\n",
    "print(list1)\n"
   ]
  },
  {
   "cell_type": "code",
   "execution_count": 150,
   "id": "2c60e1e4",
   "metadata": {},
   "outputs": [
    {
     "name": "stdout",
     "output_type": "stream",
     "text": [
      "red-green-orange\n",
      "redgreenorange\n"
     ]
    }
   ],
   "source": [
    "#54 concatenate elements of a list\n",
    "\n",
    "color = ['red', 'green', 'orange']\n",
    "print('-'.join(color))\n",
    "print(''.join(color)) "
   ]
  },
  {
   "cell_type": "code",
   "execution_count": 151,
   "id": "53269d67",
   "metadata": {},
   "outputs": [],
   "source": [
    "#55  remove key values pairs from a list of dictionaries\n",
    "\n"
   ]
  },
  {
   "cell_type": "code",
   "execution_count": 152,
   "id": "08040018",
   "metadata": {
    "scrolled": true
   },
   "outputs": [
    {
     "name": "stdout",
     "output_type": "stream",
     "text": [
      "<class 'str'>\n",
      "['I', 'ḷ', 'a', 'v', 'a', 'r', 'a', 'c', 'i', ' ', 'K', 'u', 'n', 'd', 'a', 'v', 'a', 'i']\n",
      "<class 'list'>\n"
     ]
    }
   ],
   "source": [
    "#56 convert a string to a list\n",
    "\n",
    "new_string = \"Iḷavaraci Kundavai\"\n",
    "print(type(new_string))\n",
    "new_lis = list(new_string)\n",
    "print(new_lis)\n",
    "print(type(new_lis))"
   ]
  },
  {
   "cell_type": "code",
   "execution_count": 153,
   "id": "641b47c3",
   "metadata": {},
   "outputs": [
    {
     "name": "stdout",
     "output_type": "stream",
     "text": [
      "NO\n"
     ]
    }
   ],
   "source": [
    "#57 whether all items of a list is equal to a given string\n",
    "\n",
    "col2=['a','a','b']\n",
    "col1=['a','a','a']\n",
    "flag=True\n",
    "val='a'\n",
    "for i in col2:\n",
    "    if i!=val:\n",
    "        flag=False\n",
    "        break\n",
    "if flag:\n",
    "    print(\"YES\")\n",
    "else:\n",
    "    print(\"NO\")"
   ]
  },
  {
   "cell_type": "code",
   "execution_count": 154,
   "id": "05cf7e24",
   "metadata": {},
   "outputs": [
    {
     "name": "stdout",
     "output_type": "stream",
     "text": [
      "[1, 3, 5, 7, 9, 2, 4, 6, 8]\n"
     ]
    }
   ],
   "source": [
    "# 58 replace the last element in a list with another list\n",
    "\n",
    "num1 = [1, 3, 5, 7, 9, 10]\n",
    "num2 = [2, 4, 6, 8]\n",
    "# Update the last element of 'num1' (using slicing) to be the entire 'num2' list\n",
    "# This effectively replaces the last element of 'num1' with the elements of 'num2'\n",
    "num1[-1:] = num2\n",
    "print(num1)"
   ]
  },
  {
   "cell_type": "code",
   "execution_count": 155,
   "id": "b81e1559",
   "metadata": {},
   "outputs": [
    {
     "name": "stdout",
     "output_type": "stream",
     "text": [
      "10\n"
     ]
    }
   ],
   "source": [
    "#59 check whether the n-th element exists in a given list\n",
    "\n",
    "list1 = [1, 3, 5, 7, 9, 10]\n",
    "i = len(list1) - 1\n",
    "print(list1[i])"
   ]
  },
  {
   "cell_type": "code",
   "execution_count": 156,
   "id": "0c43e364",
   "metadata": {},
   "outputs": [
    {
     "name": "stdout",
     "output_type": "stream",
     "text": [
      "(6, 0)\n"
     ]
    }
   ],
   "source": [
    "#60 the smallest second index value from a list of tuples\n",
    "\n",
    "x = [(4, 1), (1, 2), (6, 0)]\n",
    "def custom_key(n):\n",
    "    return (n[1], -n[0])\n",
    "min_element = min(x, key=custom_key)\n",
    "print(min_element)\n"
   ]
  },
  {
   "cell_type": "code",
   "execution_count": 158,
   "id": "8643aeed",
   "metadata": {},
   "outputs": [
    {
     "name": "stdout",
     "output_type": "stream",
     "text": [
      "4\n"
     ]
    },
    {
     "data": {
      "text/plain": [
       "[{}, {}, {}, {}]"
      ]
     },
     "execution_count": 158,
     "metadata": {},
     "output_type": "execute_result"
    }
   ],
   "source": [
    "#61 create a list of empty dictionaries\n",
    "\n",
    "dict1={}\n",
    "n=int(input())\n",
    "list1=[]\n",
    "for i in range (n):\n",
    "    list1.append(dict1)\n",
    "list1"
   ]
  },
  {
   "cell_type": "code",
   "execution_count": 159,
   "id": "36113215",
   "metadata": {},
   "outputs": [
    {
     "name": "stdout",
     "output_type": "stream",
     "text": [
      "1 2 3 4 5\n"
     ]
    }
   ],
   "source": [
    "#62 print a list of space-separated elements\n",
    "\n",
    "num = [1, 2, 3, 4, 5]\n",
    "print(*num)\n",
    "#Instead of printing the entire list as a single object (e.g., [1, 2, 3, 4, 5]), the * operator unpacks the list and passes each element as an individual argument to the print() function."
   ]
  },
  {
   "cell_type": "code",
   "execution_count": 160,
   "id": "11363c71",
   "metadata": {},
   "outputs": [
    {
     "name": "stdout",
     "output_type": "stream",
     "text": [
      "['emp1', 'emp2', 'emp3', 'emp4']\n"
     ]
    }
   ],
   "source": [
    "#63 insert a given string at the beginning of all items in a list\n",
    "\n",
    "num = [1, 2, 3, 4]\n",
    "new_list = []  # Create an empty list to store the modified strings\n",
    "for i in num:\n",
    "    new_list.append('emp{0}'.format(i))  # Append each string to the list\n",
    "print(new_list)"
   ]
  },
  {
   "cell_type": "code",
   "execution_count": 161,
   "id": "59683913",
   "metadata": {},
   "outputs": [
    {
     "name": "stdout",
     "output_type": "stream",
     "text": [
      "1 red\n",
      "2 white\n",
      "3 black\n"
     ]
    }
   ],
   "source": [
    "#64 iterate over two lists simultaneously\n",
    "\n",
    "num = [1, 2, 3]\n",
    "color = ['red', 'white', 'black']\n",
    "\n",
    "for i in range(len(num)):\n",
    "    a = num[i]\n",
    "    b = color[i]\n",
    "    print(a, b)"
   ]
  },
  {
   "cell_type": "code",
   "execution_count": 162,
   "id": "334a38b9",
   "metadata": {},
   "outputs": [
    {
     "name": "stdout",
     "output_type": "stream",
     "text": [
      "[3, 4, 0, 0, 0, 6, 2, 0, 6, 7, 6, 0, 0, 0, 9, 10, 7, 4, 4, 5, 3, 0, 0, 2, 9, 7, 1]\n",
      "\n",
      "Move all zero digits to the end of the said list of numbers:\n",
      "[3, 4, 6, 2, 6, 7, 6, 9, 10, 7, 4, 4, 5, 3, 2, 9, 7, 1, 0, 0, 0, 0, 0, 0, 0, 0, 0]\n"
     ]
    }
   ],
   "source": [
    "#65 move all zero digits to end of a given list of numbers\n",
    "\n",
    "\"\"\"list1=[3, 4, 0, 0, 0, 6, 2, 0, 6, 7, 6, 0, 0, 0, 9, 10, 7, 4, 4, 5, 3, 0, 0, 2, 9, 7, 1]\n",
    "print(sorted(list1,reverse=True))\"\"\"\n",
    "\n",
    "\n",
    "nums = [3, 4, 0, 0, 0, 6, 2, 0, 6, 7, 6, 0, 0, 0, 9, 10, 7, 4, 4, 5, 3, 0, 0, 2, 9, 7, 1]\n",
    "print(nums)\n",
    "non_zero = []\n",
    "zero = []\n",
    "for i in nums:  # Iterate over the correct list \"nums\"\n",
    "    if i != 0:\n",
    "        non_zero.append(i)\n",
    "    else:\n",
    "        zero.append(i)\n",
    "\n",
    "print(\"\\nMove all zero digits to the end of the said list of numbers:\")\n",
    "print(non_zero + zero)\n"
   ]
  },
  {
   "cell_type": "code",
   "execution_count": 163,
   "id": "7bf82e80",
   "metadata": {},
   "outputs": [
    {
     "name": "stdout",
     "output_type": "stream",
     "text": [
      "[10, 11, 12]\n"
     ]
    }
   ],
   "source": [
    "#66  find the list in a list of lists whose sum of elements is the highest\n",
    "\n",
    "num = [[1, 2, 3], [4, 5, 6], [10, 11, 12], [7, 8, 9]]\n",
    "\n",
    "# Use the 'max' function to find the maximum sublist in 'num' based on the sum of its elements\n",
    "# The 'key' argument specifies a lambda function that calculates the sum of each sublist\n",
    "# The 'max' function returns the sublist with the maximum sum\n",
    "print(max(num, key=sum)) \n"
   ]
  },
  {
   "cell_type": "code",
   "execution_count": 164,
   "id": "27aa58fb",
   "metadata": {},
   "outputs": [
    {
     "name": "stdout",
     "output_type": "stream",
     "text": [
      "[3, 4, 5]\n"
     ]
    }
   ],
   "source": [
    "#67 find all the values in a list are greater than a specified number\n",
    "\n",
    "num = [1, 2, 3, 4, 5]\n",
    "num2=[]\n",
    "x=2\n",
    "for i in num:\n",
    "    if i>x:\n",
    "        num2.append(i)\n",
    "print(num2)"
   ]
  },
  {
   "cell_type": "code",
   "execution_count": 165,
   "id": "95944a0c",
   "metadata": {},
   "outputs": [
    {
     "name": "stdout",
     "output_type": "stream",
     "text": [
      "[2, 4, 6, 1, 3, 5, 7, 9, 10]\n"
     ]
    }
   ],
   "source": [
    "#68 extend a list without append\n",
    "\n",
    "num1 = [1, 3, 5, 7, 9, 10]\n",
    "num2 = [2, 4, 6, 8]\n",
    "num2[-1:] = num1\n",
    "print(num2)"
   ]
  },
  {
   "cell_type": "code",
   "execution_count": 166,
   "id": "50f1fd50",
   "metadata": {},
   "outputs": [
    {
     "name": "stdout",
     "output_type": "stream",
     "text": [
      "[[10, 20], [40], [30, 56, 25], [33]]\n"
     ]
    }
   ],
   "source": [
    "#69 remove duplicates from a list of lists\n",
    "\n",
    "list1 = [[10, 20], [40], [30, 56, 25], [10, 20], [33], [40]]\n",
    "\n",
    "seen = set()\n",
    "unique_lists = []\n",
    "\n",
    "for i in list1:\n",
    "    if tuple(i) not in seen:\n",
    "        seen.add(tuple(i))\n",
    "        unique_lists.append(i)\n",
    "\n",
    "print(unique_lists)\n"
   ]
  },
  {
   "cell_type": "code",
   "execution_count": 167,
   "id": "b2699908",
   "metadata": {},
   "outputs": [],
   "source": [
    "#70 get the depth of a dictionary\n",
    "list1=['abcd', 'abc', 'bcd', 'bkie', 'cder', 'cdsw', 'sdfsd', 'dagfa', 'acjd']\n"
   ]
  },
  {
   "cell_type": "code",
   "execution_count": 168,
   "id": "3f4ad934",
   "metadata": {},
   "outputs": [
    {
     "name": "stdout",
     "output_type": "stream",
     "text": [
      "False\n"
     ]
    }
   ],
   "source": [
    "#71 all dictionaries in a list are empty or not\n",
    "\n",
    "#list1=[{},{},{}]\n",
    "list1 = [{1,2},{},{}]\n",
    "flag=True\n",
    "for i in list1:\n",
    "    if i!=list1:\n",
    "        flag=False\n",
    "        break\n",
    "print(flag)"
   ]
  },
  {
   "cell_type": "code",
   "execution_count": 176,
   "id": "411e12dd",
   "metadata": {},
   "outputs": [
    {
     "name": "stdout",
     "output_type": "stream",
     "text": [
      "0 10 20 30 40 50 60 70 80 90 100 110 120\n"
     ]
    }
   ],
   "source": [
    "#72  Flatten a given nested list structure\n",
    "\n",
    "nested_list = [0, 10, [20, 30], 40, 50, [60, 70, 80], [90, 100, 110, 120]]\n",
    "flat_list = []\n",
    "for item in nested_list:\n",
    "    if isinstance(item, list):\n",
    "        flat_list.extend(item)  # Directly extend with sublist elements\n",
    "    else:\n",
    "        flat_list.append(item)\n",
    "print(*flat_list)"
   ]
  },
  {
   "cell_type": "code",
   "execution_count": 170,
   "id": "8ed1b30f",
   "metadata": {},
   "outputs": [
    {
     "name": "stdout",
     "output_type": "stream",
     "text": [
      "[0, 1, 2, 3, 4, 5, 6, 7, 8, 9]\n"
     ]
    }
   ],
   "source": [
    "#73 remove consecutive duplicates of a given list\n",
    "\n",
    "list1=[0, 0, 1, 2, 3, 4, 4, 5, 6, 6, 6, 7, 8, 9, 4, 4]\n",
    "print(list(set(list1)))"
   ]
  },
  {
   "cell_type": "code",
   "execution_count": 171,
   "id": "0babb5d7",
   "metadata": {
    "scrolled": true
   },
   "outputs": [
    {
     "name": "stdout",
     "output_type": "stream",
     "text": [
      "[[0, 0], [1], [2], [3], [4, 4], [5], [6, 6, 6], [7], [8], [9], [4, 4]]\n"
     ]
    }
   ],
   "source": [
    "#74 pack consecutive duplicates of a given list elements into sublists\n",
    "\n",
    "\n",
    "list1 = [0, 0, 1, 2, 3, 4, 4, 5, 6, 6, 6, 7, 8, 9, 4, 4]\n",
    "result = []\n",
    "current_sublist = []\n",
    "for i in list1: \n",
    "    if not current_sublist or i == current_sublist[-1]:\n",
    "        current_sublist.append(i)\n",
    "    else:\n",
    "        result.append(current_sublist)\n",
    "        current_sublist = [i]\n",
    "if current_sublist:\n",
    "    result.append(current_sublist)\n",
    "print(result)"
   ]
  },
  {
   "cell_type": "code",
   "execution_count": null,
   "id": "dbeef0ba",
   "metadata": {},
   "outputs": [],
   "source": []
  },
  {
   "cell_type": "code",
   "execution_count": null,
   "id": "381144cd",
   "metadata": {},
   "outputs": [],
   "source": []
  },
  {
   "cell_type": "code",
   "execution_count": null,
   "id": "d270dc36",
   "metadata": {},
   "outputs": [],
   "source": []
  },
  {
   "cell_type": "code",
   "execution_count": 172,
   "id": "ace3aa96",
   "metadata": {},
   "outputs": [
    {
     "name": "stdout",
     "output_type": "stream",
     "text": [
      "Original list: [1, 1, 2, 3, 4, 4, 5, 1]\n",
      "Splitted list: ([1, 1, 2], [3, 4, 4, 5, 1])\n"
     ]
    }
   ],
   "source": [
    "#78 split a given list into two parts\n",
    "\n",
    "list1 = [1, 1, 2, 3, 4, 4, 5, 1]\n",
    "split_length = 3  # Length of the first part of the list\n",
    "if 0 <= split_length <= len(original_list):\n",
    "    first= list1[:split_length]\n",
    "    second = list1[split_length:]\n",
    "    print(\"Original list:\", list1)\n",
    "    print(\"Splitted list:\", (first, second))\n",
    "else:\n",
    "    print(\"Invalid split length:\", split_length)"
   ]
  },
  {
   "cell_type": "code",
   "execution_count": 173,
   "id": "08e00890",
   "metadata": {},
   "outputs": [
    {
     "name": "stdout",
     "output_type": "stream",
     "text": [
      "Original list: [1, 1, 2, 3, 4, 4, 5, 1]\n",
      "New list after removing element at index 2 : [1, 1, 3, 4, 4, 5, 1]\n"
     ]
    }
   ],
   "source": [
    "#79 remove the K'th element from a given list\n",
    "\n",
    "original_list = [1, 1, 2, 3, 4, 4, 5, 1]\n",
    "k = 2  # Index of the element to remove (0-based indexing)\n",
    "\n",
    "if 0 <= k < len(original_list):\n",
    "    new_list = original_list[:k] + original_list[k + 1:]\n",
    "    print(\"Original list:\", original_list)\n",
    "    print(\"New list after removing element at index\", k, \":\", new_list)\n",
    "else:\n",
    "    print(\"Invalid index:\", k)\n"
   ]
  },
  {
   "cell_type": "code",
   "execution_count": 174,
   "id": "34db6c7d",
   "metadata": {},
   "outputs": [
    {
     "name": "stdout",
     "output_type": "stream",
     "text": [
      "[1, 3, 12, 5, 7, 9, 10]\n"
     ]
    }
   ],
   "source": [
    "#80  insert an element at a specified position into a given list\n",
    "\n",
    "num1 = [1, 3, 5, 7, 9, 10]\n",
    "position = 2  #(index starts from 0)\n",
    "element = 12\n",
    "num2 = num1[:position] + [element] + num1[position:]\n",
    "print(num2) "
   ]
  },
  {
   "cell_type": "code",
   "execution_count": null,
   "id": "71628a3d",
   "metadata": {},
   "outputs": [],
   "source": []
  },
  {
   "cell_type": "code",
   "execution_count": null,
   "id": "7d70bade",
   "metadata": {},
   "outputs": [],
   "source": [
    "\"\"\"\n",
    "Didn't Understand \n",
    "17 18 25 26 36 55 60 70\n",
    "\"\"\""
   ]
  },
  {
   "cell_type": "code",
   "execution_count": null,
   "id": "08a1a136",
   "metadata": {},
   "outputs": [],
   "source": []
  }
 ],
 "metadata": {
  "kernelspec": {
   "display_name": "Python 3 (ipykernel)",
   "language": "python",
   "name": "python3"
  },
  "language_info": {
   "codemirror_mode": {
    "name": "ipython",
    "version": 3
   },
   "file_extension": ".py",
   "mimetype": "text/x-python",
   "name": "python",
   "nbconvert_exporter": "python",
   "pygments_lexer": "ipython3",
   "version": "3.11.5"
  }
 },
 "nbformat": 4,
 "nbformat_minor": 5
}
